{
  "cells": [
    {
      "cell_type": "markdown",
      "metadata": {
        "id": "_sPjIsVMVjRP"
      },
      "source": [
        "# Artificial Neural Network\n",
        "\n",
        "An Artificial Neural Network (ANN) is one of the core techniques in deep learning, inspired by the structure and function of the human brain. It consists of layers of interconnected nodes, or \"neurons,\" which process input data and learn patterns through weighted connections.\n",
        "\n",
        "The network is trained by adjusting these weights in response to the errors made during prediction, allowing the model to improve its accuracy over time."
      ]
    },
    {
      "cell_type": "markdown",
      "metadata": {
        "id": "g74vcG31WHWs"
      },
      "source": [
        "# Setup Environment"
      ]
    },
    {
      "cell_type": "code",
      "execution_count": 32,
      "metadata": {
        "colab": {
          "base_uri": "https://localhost:8080/"
        },
        "id": "sSn6MKhIff6U",
        "outputId": "a968a3e7-5296-4d60-a783-937604c37d87"
      },
      "outputs": [
        {
          "name": "stderr",
          "output_type": "stream",
          "text": [
            "Downloading...\n",
            "From: https://drive.google.com/uc?id=12MfYQpBl_79ak9K7VHx4jDEaeFUEhHEO\n",
            "To: /content/spam.zip\n",
            "100%|██████████| 3.58M/3.58M [00:00<00:00, 94.4MB/s]\n"
          ]
        }
      ],
      "source": [
        "import gdown\n",
        "import zipfile\n",
        "import os\n",
        "import pandas as pd\n",
        "from sklearn.feature_extraction.text import TfidfVectorizer\n",
        "from sklearn.model_selection import train_test_split\n",
        "from sklearn.metrics import confusion_matrix, ConfusionMatrixDisplay\n",
        "import tensorflow as tf\n",
        "from tensorflow.keras.models import Sequential\n",
        "from tensorflow.keras.layers import Dense, Dropout, BatchNormalization\n",
        "from tensorflow.keras.callbacks import EarlyStopping, ReduceLROnPlateau\n",
        "import matplotlib.pyplot as plt\n",
        "\n",
        "\n",
        "#Fetch the dataset from google drive\n",
        "file_url = \"https://drive.google.com/uc?id=12MfYQpBl_79ak9K7VHx4jDEaeFUEhHEO\"\n",
        "output_zip = \"spam.zip\"\n",
        "gdown.download(file_url, output_zip, quiet=False)\n",
        "\n",
        "with zipfile.ZipFile(output_zip, 'r') as zip_ref:\n",
        "    zip_ref.extractall(\"spam_files\")\n",
        "os.remove(output_zip)"
      ]
    },
    {
      "cell_type": "code",
      "execution_count": 33,
      "metadata": {
        "id": "tBXy3CRZfzIg"
      },
      "outputs": [],
      "source": [
        "#read the dataset\n",
        "df = pd.read_csv('/content/spam_files/url_spam_classification.csv')\n"
      ]
    },
    {
      "cell_type": "markdown",
      "metadata": {
        "id": "6lsQwLQ1WOp-"
      },
      "source": [
        "# Data Preprocessing"
      ]
    },
    {
      "cell_type": "markdown",
      "metadata": {
        "id": "YaxUIGz7WVx4"
      },
      "source": [
        "The ANN can only accept the numerical data as input, however the spam URL dataset values are in string format so the value have to first convert into binary format."
      ]
    },
    {
      "cell_type": "code",
      "execution_count": 34,
      "metadata": {
        "colab": {
          "base_uri": "https://localhost:8080/"
        },
        "id": "2MxlnSyzf2nA",
        "outputId": "77df04f5-0d8e-4b57-c3dd-23503325223d"
      },
      "outputs": [
        {
          "name": "stdout",
          "output_type": "stream",
          "text": [
            "Print Sample Data Frame\n",
            "                                                 url  is_spam\n",
            "0  https://briefingday.us8.list-manage.com/unsubs...     True\n",
            "1                             https://www.hvper.com/     True\n",
            "2                 https://briefingday.com/m/v4n3i4f3     True\n",
            "3   https://briefingday.com/n/20200618/m#commentform    False\n",
            "4                        https://briefingday.com/fan     True\n"
          ]
        },
        {
          "data": {
            "text/plain": [
              "array([1, 0])"
            ]
          },
          "execution_count": 34,
          "metadata": {},
          "output_type": "execute_result"
        }
      ],
      "source": [
        "# dataframe sample\n",
        "print(\"Print Sample Data Frame\")\n",
        "print(df.head(5))\n",
        "\n",
        "# converting to binary\n",
        "df['is_spam'] = df['is_spam'].apply(lambda x: 1 if x == df['is_spam'].unique()[0] else 0)\n",
        "df['is_spam'].unique()"
      ]
    },
    {
      "cell_type": "markdown",
      "metadata": {
        "id": "UaqUrdVYYUVV"
      },
      "source": [
        "Data record distribution Visualization."
      ]
    },
    {
      "cell_type": "code",
      "execution_count": 35,
      "metadata": {
        "colab": {
          "base_uri": "https://localhost:8080/",
          "height": 472
        },
        "id": "D9c2q37ejLzn",
        "outputId": "0d86a285-9de4-4572-869a-59ff6b9a1d3a"
      },
      "outputs": [
        {
          "data": {
            "image/png": "[encoded data removed]",
            "text/plain": [
              "<Figure size 640x480 with 1 Axes>"
            ]
          },
          "metadata": {},
          "output_type": "display_data"
        }
      ],
      "source": [
        "import matplotlib.pyplot as plt\n",
        "import seaborn as sns\n",
        "\n",
        "# Count the distribution of 'is_spam' column\n",
        "spam_distribution = df['is_spam'].value_counts()\n",
        "\n",
        "# Plotting the distribution using seaborn\n",
        "sns.barplot(x=spam_distribution.index, y=spam_distribution.values)\n",
        "\n",
        "# Adding labels and title\n",
        "plt.title('Distribution of Spam vs Non-Spam URLs')\n",
        "plt.xlabel('Is Spam')\n",
        "plt.ylabel('Count')\n",
        "\n",
        "# Display the plot\n",
        "plt.show()"
      ]
    },
    {
      "cell_type": "markdown",
      "metadata": {
        "id": "i4CAouItZIvy"
      },
      "source": [
        "Vectorize the Dataset using TFIDF Vectorizer\n",
        "\n"
      ]
    },
    {
      "cell_type": "code",
      "execution_count": 36,
      "metadata": {
        "id": "Rg2PDP4CgBZV"
      },
      "outputs": [],
      "source": [
        "\n",
        "vectorizer = TfidfVectorizer(max_features=50000, ngram_range=(1, 2), lowercase=True, stop_words='english')\n",
        "X = vectorizer.fit_transform(df['url'])\n"
      ]
    },
    {
      "cell_type": "markdown",
      "metadata": {
        "id": "PSY2_l2aZo39"
      },
      "source": [
        "Data folds (20% for testing, 80% for training)"
      ]
    },
    {
      "cell_type": "code",
      "execution_count": 37,
      "metadata": {
        "id": "bfEnkz-zZm7A"
      },
      "outputs": [],
      "source": [
        "y = df['is_spam']\n",
        "X_train, X_test, y_train, y_test = train_test_split(X, y, test_size=0.2, random_state=42)\n",
        "\n",
        "y_train = y_train.astype(int).reset_index(drop=True)\n",
        "y_test = y_test.astype(int).reset_index(drop=True)\n"
      ]
    },
    {
      "cell_type": "markdown",
      "metadata": {
        "id": "x-7f86z5ZN_F"
      },
      "source": [
        "# Model Architecture 4 Layer Model (Input + 2 Hidden + 1 Output)"
      ]
    },
    {
      "cell_type": "code",
      "execution_count": 38,
      "metadata": {
        "colab": {
          "base_uri": "https://localhost:8080/",
          "height": 409
        },
        "id": "_u4OHaKSYz_l",
        "outputId": "d8ef9bd7-e2eb-4950-8a19-6a6f53ee8466"
      },
      "outputs": [
        {
          "name": "stderr",
          "output_type": "stream",
          "text": [
            "/usr/local/lib/python3.10/dist-packages/keras/src/layers/core/dense.py:87: UserWarning: Do not pass an `input_shape`/`input_dim` argument to a layer. When using Sequential models, prefer using an `Input(shape)` object as the first layer in the model instead.\n",
            "  super().__init__(activity_regularizer=activity_regularizer, **kwargs)\n"
          ]
        },
        {
          "data": {
            "text/html": [
              "<pre style=\"white-space:pre;overflow-x:auto;line-height:normal;font-family:Menlo,'DejaVu Sans Mono',consolas,'Courier New',monospace\"><span style=\"font-weight: bold\">Model: \"sequential_2\"</span>\n",
              "</pre>\n"
            ],
            "text/plain": [
              "\u001b[1mModel: \"sequential_2\"\u001b[0m\n"
            ]
          },
          "metadata": {},
          "output_type": "display_data"
        },
        {
          "data": {
            "text/html": [
              "<pre style=\"white-space:pre;overflow-x:auto;line-height:normal;font-family:Menlo,'DejaVu Sans Mono',consolas,'Courier New',monospace\">┏━━━━━━━━━━━━━━━━━━━━━━━━━━━━━━━━━━━━━━┳━━━━━━━━━━━━━━━━━━━━━━━━━━━━━┳━━━━━━━━━━━━━━━━━┓\n",
              "┃<span style=\"font-weight: bold\"> Layer (type)                         </span>┃<span style=\"font-weight: bold\"> Output Shape                </span>┃<span style=\"font-weight: bold\">         Param # </span>┃\n",
              "┡━━━━━━━━━━━━━━━━━━━━━━━━━━━━━━━━━━━━━━╇━━━━━━━━━━━━━━━━━━━━━━━━━━━━━╇━━━━━━━━━━━━━━━━━┩\n",
              "│ dense_8 (<span style=\"color: #0087ff; text-decoration-color: #0087ff\">Dense</span>)                      │ (<span style=\"color: #00d7ff; text-decoration-color: #00d7ff\">None</span>, <span style=\"color: #00af00; text-decoration-color: #00af00\">128</span>)                 │       <span style=\"color: #00af00; text-decoration-color: #00af00\">6,400,128</span> │\n",
              "├──────────────────────────────────────┼─────────────────────────────┼─────────────────┤\n",
              "│ dropout_6 (<span style=\"color: #0087ff; text-decoration-color: #0087ff\">Dropout</span>)                  │ (<span style=\"color: #00d7ff; text-decoration-color: #00d7ff\">None</span>, <span style=\"color: #00af00; text-decoration-color: #00af00\">128</span>)                 │               <span style=\"color: #00af00; text-decoration-color: #00af00\">0</span> │\n",
              "├──────────────────────────────────────┼─────────────────────────────┼─────────────────┤\n",
              "│ dense_9 (<span style=\"color: #0087ff; text-decoration-color: #0087ff\">Dense</span>)                      │ (<span style=\"color: #00d7ff; text-decoration-color: #00d7ff\">None</span>, <span style=\"color: #00af00; text-decoration-color: #00af00\">64</span>)                  │           <span style=\"color: #00af00; text-decoration-color: #00af00\">8,256</span> │\n",
              "├──────────────────────────────────────┼─────────────────────────────┼─────────────────┤\n",
              "│ dropout_7 (<span style=\"color: #0087ff; text-decoration-color: #0087ff\">Dropout</span>)                  │ (<span style=\"color: #00d7ff; text-decoration-color: #00d7ff\">None</span>, <span style=\"color: #00af00; text-decoration-color: #00af00\">64</span>)                  │               <span style=\"color: #00af00; text-decoration-color: #00af00\">0</span> │\n",
              "├──────────────────────────────────────┼─────────────────────────────┼─────────────────┤\n",
              "│ dense_10 (<span style=\"color: #0087ff; text-decoration-color: #0087ff\">Dense</span>)                     │ (<span style=\"color: #00d7ff; text-decoration-color: #00d7ff\">None</span>, <span style=\"color: #00af00; text-decoration-color: #00af00\">32</span>)                  │           <span style=\"color: #00af00; text-decoration-color: #00af00\">2,080</span> │\n",
              "├──────────────────────────────────────┼─────────────────────────────┼─────────────────┤\n",
              "│ dropout_8 (<span style=\"color: #0087ff; text-decoration-color: #0087ff\">Dropout</span>)                  │ (<span style=\"color: #00d7ff; text-decoration-color: #00d7ff\">None</span>, <span style=\"color: #00af00; text-decoration-color: #00af00\">32</span>)                  │               <span style=\"color: #00af00; text-decoration-color: #00af00\">0</span> │\n",
              "├──────────────────────────────────────┼─────────────────────────────┼─────────────────┤\n",
              "│ dense_11 (<span style=\"color: #0087ff; text-decoration-color: #0087ff\">Dense</span>)                     │ (<span style=\"color: #00d7ff; text-decoration-color: #00d7ff\">None</span>, <span style=\"color: #00af00; text-decoration-color: #00af00\">1</span>)                   │              <span style=\"color: #00af00; text-decoration-color: #00af00\">33</span> │\n",
              "└──────────────────────────────────────┴─────────────────────────────┴─────────────────┘\n",
              "</pre>\n"
            ],
            "text/plain": [
              "┏━━━━━━━━━━━━━━━━━━━━━━━━━━━━━━━━━━━━━━┳━━━━━━━━━━━━━━━━━━━━━━━━━━━━━┳━━━━━━━━━━━━━━━━━┓\n",
              "┃\u001b[1m \u001b[0m\u001b[1mLayer (type)                        \u001b[0m\u001b[1m \u001b[0m┃\u001b[1m \u001b[0m\u001b[1mOutput Shape               \u001b[0m\u001b[1m \u001b[0m┃\u001b[1m \u001b[0m\u001b[1m        Param #\u001b[0m\u001b[1m \u001b[0m┃\n",
              "┡━━━━━━━━━━━━━━━━━━━━━━━━━━━━━━━━━━━━━━╇━━━━━━━━━━━━━━━━━━━━━━━━━━━━━╇━━━━━━━━━━━━━━━━━┩\n",
              "│ dense_8 (\u001b[38;5;33mDense\u001b[0m)                      │ (\u001b[38;5;45mNone\u001b[0m, \u001b[38;5;34m128\u001b[0m)                 │       \u001b[38;5;34m6,400,128\u001b[0m │\n",
              "├──────────────────────────────────────┼─────────────────────────────┼─────────────────┤\n",
              "│ dropout_6 (\u001b[38;5;33mDropout\u001b[0m)                  │ (\u001b[38;5;45mNone\u001b[0m, \u001b[38;5;34m128\u001b[0m)                 │               \u001b[38;5;34m0\u001b[0m │\n",
              "├──────────────────────────────────────┼─────────────────────────────┼─────────────────┤\n",
              "│ dense_9 (\u001b[38;5;33mDense\u001b[0m)                      │ (\u001b[38;5;45mNone\u001b[0m, \u001b[38;5;34m64\u001b[0m)                  │           \u001b[38;5;34m8,256\u001b[0m │\n",
              "├──────────────────────────────────────┼─────────────────────────────┼─────────────────┤\n",
              "│ dropout_7 (\u001b[38;5;33mDropout\u001b[0m)                  │ (\u001b[38;5;45mNone\u001b[0m, \u001b[38;5;34m64\u001b[0m)                  │               \u001b[38;5;34m0\u001b[0m │\n",
              "├──────────────────────────────────────┼─────────────────────────────┼─────────────────┤\n",
              "│ dense_10 (\u001b[38;5;33mDense\u001b[0m)                     │ (\u001b[38;5;45mNone\u001b[0m, \u001b[38;5;34m32\u001b[0m)                  │           \u001b[38;5;34m2,080\u001b[0m │\n",
              "├──────────────────────────────────────┼─────────────────────────────┼─────────────────┤\n",
              "│ dropout_8 (\u001b[38;5;33mDropout\u001b[0m)                  │ (\u001b[38;5;45mNone\u001b[0m, \u001b[38;5;34m32\u001b[0m)                  │               \u001b[38;5;34m0\u001b[0m │\n",
              "├──────────────────────────────────────┼─────────────────────────────┼─────────────────┤\n",
              "│ dense_11 (\u001b[38;5;33mDense\u001b[0m)                     │ (\u001b[38;5;45mNone\u001b[0m, \u001b[38;5;34m1\u001b[0m)                   │              \u001b[38;5;34m33\u001b[0m │\n",
              "└──────────────────────────────────────┴─────────────────────────────┴─────────────────┘\n"
            ]
          },
          "metadata": {},
          "output_type": "display_data"
        },
        {
          "data": {
            "text/html": [
              "<pre style=\"white-space:pre;overflow-x:auto;line-height:normal;font-family:Menlo,'DejaVu Sans Mono',consolas,'Courier New',monospace\"><span style=\"font-weight: bold\"> Total params: </span><span style=\"color: #00af00; text-decoration-color: #00af00\">6,410,497</span> (24.45 MB)\n",
              "</pre>\n"
            ],
            "text/plain": [
              "\u001b[1m Total params: \u001b[0m\u001b[38;5;34m6,410,497\u001b[0m (24.45 MB)\n"
            ]
          },
          "metadata": {},
          "output_type": "display_data"
        },
        {
          "data": {
            "text/html": [
              "<pre style=\"white-space:pre;overflow-x:auto;line-height:normal;font-family:Menlo,'DejaVu Sans Mono',consolas,'Courier New',monospace\"><span style=\"font-weight: bold\"> Trainable params: </span><span style=\"color: #00af00; text-decoration-color: #00af00\">6,410,497</span> (24.45 MB)\n",
              "</pre>\n"
            ],
            "text/plain": [
              "\u001b[1m Trainable params: \u001b[0m\u001b[38;5;34m6,410,497\u001b[0m (24.45 MB)\n"
            ]
          },
          "metadata": {},
          "output_type": "display_data"
        },
        {
          "data": {
            "text/html": [
              "<pre style=\"white-space:pre;overflow-x:auto;line-height:normal;font-family:Menlo,'DejaVu Sans Mono',consolas,'Courier New',monospace\"><span style=\"font-weight: bold\"> Non-trainable params: </span><span style=\"color: #00af00; text-decoration-color: #00af00\">0</span> (0.00 B)\n",
              "</pre>\n"
            ],
            "text/plain": [
              "\u001b[1m Non-trainable params: \u001b[0m\u001b[38;5;34m0\u001b[0m (0.00 B)\n"
            ]
          },
          "metadata": {},
          "output_type": "display_data"
        }
      ],
      "source": [
        "\n",
        "# ANN model with increased regularization\n",
        "model = Sequential([\n",
        "    Dense(128, activation='relu', input_dim=X_train.shape[1]),\n",
        "    Dropout(0.7),\n",
        "    Dense(64, activation='relu'),\n",
        "    Dropout(0.7),\n",
        "    Dense(32, activation='relu'),\n",
        "    Dropout(0.7),\n",
        "    Dense(1, activation='sigmoid')\n",
        "])\n",
        "\n",
        "# Model Summary Display\n",
        "model.summary()\n"
      ]
    },
    {
      "cell_type": "code",
      "execution_count": 39,
      "metadata": {
        "id": "1-FdfSz0h3MF"
      },
      "outputs": [],
      "source": [
        "#optimize the model\n",
        "optimizer = tf.keras.optimizers.Adam(learning_rate=0.00001)\n",
        "model.compile(optimizer=optimizer, loss='binary_crossentropy', metrics=['accuracy'])\n",
        "\n",
        "\n",
        "early_stopping = EarlyStopping(monitor='val_loss', patience=3, restore_best_weights=True)\n",
        "reduce_lr = ReduceLROnPlateau(monitor='val_loss', factor=0.2, patience=2, min_lr=0.00001)\n",
        "\n",
        "# weight distribution\n",
        "class_weight = {0: 1.0, 1: 1.0}\n"
      ]
    },
    {
      "cell_type": "markdown",
      "metadata": {
        "id": "B4kes3bCaAh-"
      },
      "source": [
        "# Model Training"
      ]
    },
    {
      "cell_type": "code",
      "execution_count": 40,
      "metadata": {
        "colab": {
          "base_uri": "https://localhost:8080/"
        },
        "id": "pYJbihlsgSi2",
        "outputId": "2b84e329-9883-4687-8dc2-47d2d3daf400"
      },
      "outputs": [
        {
          "name": "stdout",
          "output_type": "stream",
          "text": [
            "Epoch 1/10\n",
            "\u001b[1m7416/7416\u001b[0m \u001b[32m━━━━━━━━━━━━━━━━━━━━\u001b[0m\u001b[37m\u001b[0m \u001b[1m428s\u001b[0m 57ms/step - accuracy: 0.6458 - loss: 0.6701 - val_accuracy: 0.6832 - val_loss: 0.5724 - learning_rate: 1.0000e-05\n",
            "Epoch 2/10\n",
            "\u001b[1m7416/7416\u001b[0m \u001b[32m━━━━━━━━━━━━━━━━━━━━\u001b[0m\u001b[37m\u001b[0m \u001b[1m427s\u001b[0m 58ms/step - accuracy: 0.6789 - loss: 0.5624 - val_accuracy: 0.6832 - val_loss: 0.4409 - learning_rate: 1.0000e-05\n",
            "Epoch 3/10\n",
            "\u001b[1m7416/7416\u001b[0m \u001b[32m━━━━━━━━━━━━━━━━━━━━\u001b[0m\u001b[37m\u001b[0m \u001b[1m445s\u001b[0m 58ms/step - accuracy: 0.7014 - loss: 0.4607 - val_accuracy: 0.8954 - val_loss: 0.3502 - learning_rate: 1.0000e-05\n",
            "Epoch 4/10\n",
            "\u001b[1m7416/7416\u001b[0m \u001b[32m━━━━━━━━━━━━━━━━━━━━\u001b[0m\u001b[37m\u001b[0m \u001b[1m425s\u001b[0m 57ms/step - accuracy: 0.8386 - loss: 0.3770 - val_accuracy: 0.9301 - val_loss: 0.2835 - learning_rate: 1.0000e-05\n",
            "Epoch 5/10\n",
            "\u001b[1m7416/7416\u001b[0m \u001b[32m━━━━━━━━━━━━━━━━━━━━\u001b[0m\u001b[37m\u001b[0m \u001b[1m445s\u001b[0m 58ms/step - accuracy: 0.9156 - loss: 0.3117 - val_accuracy: 0.9443 - val_loss: 0.2170 - learning_rate: 1.0000e-05\n",
            "Epoch 6/10\n",
            "\u001b[1m7416/7416\u001b[0m \u001b[32m━━━━━━━━━━━━━━━━━━━━\u001b[0m\u001b[37m\u001b[0m \u001b[1m440s\u001b[0m 58ms/step - accuracy: 0.9349 - loss: 0.2503 - val_accuracy: 0.9541 - val_loss: 0.1683 - learning_rate: 1.0000e-05\n",
            "Epoch 7/10\n",
            "\u001b[1m7416/7416\u001b[0m \u001b[32m━━━━━━━━━━━━━━━━━━━━\u001b[0m\u001b[37m\u001b[0m \u001b[1m493s\u001b[0m 64ms/step - accuracy: 0.9470 - loss: 0.2067 - val_accuracy: 0.9582 - val_loss: 0.1404 - learning_rate: 1.0000e-05\n",
            "Epoch 8/10\n",
            "\u001b[1m7416/7416\u001b[0m \u001b[32m━━━━━━━━━━━━━━━━━━━━\u001b[0m\u001b[37m\u001b[0m \u001b[1m503s\u001b[0m 65ms/step - accuracy: 0.9522 - loss: 0.1784 - val_accuracy: 0.9615 - val_loss: 0.1242 - learning_rate: 1.0000e-05\n",
            "Epoch 9/10\n",
            "\u001b[1m7416/7416\u001b[0m \u001b[32m━━━━━━━━━━━━━━━━━━━━\u001b[0m\u001b[37m\u001b[0m \u001b[1m481s\u001b[0m 65ms/step - accuracy: 0.9598 - loss: 0.1549 - val_accuracy: 0.9651 - val_loss: 0.1139 - learning_rate: 1.0000e-05\n",
            "Epoch 10/10\n",
            "\u001b[1m7416/7416\u001b[0m \u001b[32m━━━━━━━━━━━━━━━━━━━━\u001b[0m\u001b[37m\u001b[0m \u001b[1m491s\u001b[0m 63ms/step - accuracy: 0.9652 - loss: 0.1380 - val_accuracy: 0.9669 - val_loss: 0.1073 - learning_rate: 1.0000e-05\n"
          ]
        }
      ],
      "source": [
        "history = model.fit(\n",
        "    X_train, y_train, epochs=10, batch_size=16,\n",
        "    validation_data=(X_test, y_test),\n",
        "    class_weight=class_weight, callbacks=[early_stopping, reduce_lr]\n",
        ")\n",
        "\n"
      ]
    },
    {
      "cell_type": "markdown",
      "metadata": {
        "id": "wfBg4KV6aRS-"
      },
      "source": [
        "# Training Outcome"
      ]
    },
    {
      "cell_type": "code",
      "execution_count": 41,
      "metadata": {
        "colab": {
          "base_uri": "https://localhost:8080/"
        },
        "id": "Xjra-kL_mxBv",
        "outputId": "745e102f-27aa-4998-c246-8d508101a6c7"
      },
      "outputs": [
        {
          "name": "stdout",
          "output_type": "stream",
          "text": [
            "\u001b[1m927/927\u001b[0m \u001b[32m━━━━━━━━━━━━━━━━━━━━\u001b[0m\u001b[37m\u001b[0m \u001b[1m2s\u001b[0m 2ms/step - accuracy: 0.9652 - loss: 0.1120\n",
            "Test Accuracy: 0.9669\n",
            "Test Loss: 0.1073\n",
            "\u001b[1m927/927\u001b[0m \u001b[32m━━━━━━━━━━━━━━━━━━━━\u001b[0m\u001b[37m\u001b[0m \u001b[1m3s\u001b[0m 3ms/step\n",
            "\n",
            "Classification Report:\n",
            "              precision    recall  f1-score   support\n",
            "\n",
            "     Class 0       0.96      0.99      0.97     20263\n",
            "     Class 1       0.97      0.91      0.94      9398\n",
            "\n",
            "    accuracy                           0.96     29661\n",
            "   macro avg       0.97      0.95      0.96     29661\n",
            "weighted avg       0.96      0.96      0.96     29661\n",
            "\n"
          ]
        }
      ],
      "source": [
        "from sklearn.metrics import classification_report, confusion_matrix\n",
        "import numpy as np\n",
        "\n",
        "\n",
        "test_loss, test_accuracy = model.evaluate(X_test, y_test)\n",
        "print(f\"Test Accuracy: {test_accuracy:.4f}\")\n",
        "print(f\"Test Loss: {test_loss:.4f}\")\n",
        "\n",
        "y_pred = (model.predict(X_test) > 0.7).astype(int)\n",
        "\n",
        "\n",
        "unique_classes = np.unique(y_test)\n",
        "\n",
        "#Classification Report Generation\n",
        "print(\"\\nClassification Report:\")\n",
        "print(classification_report(y_test, y_pred, target_names=[f'Class {label}' for label in unique_classes]))\n",
        "\n"
      ]
    },
    {
      "cell_type": "code",
      "execution_count": 42,
      "metadata": {
        "colab": {
          "base_uri": "https://localhost:8080/",
          "height": 449
        },
        "id": "eQSqvk9WankN",
        "outputId": "f859a483-a06a-42ae-e8b6-845ca7481f3e"
      },
      "outputs": [
        {
          "data": {
            "image/png": "[encoded data removed]",
            "text/plain": [
              "<Figure size 640x480 with 1 Axes>"
            ]
          },
          "metadata": {},
          "output_type": "display_data"
        }
      ],
      "source": [
        "plt.plot(history.history['loss'], label='Training Loss')\n",
        "plt.plot(history.history['val_loss'], label='Validation Loss')\n",
        "plt.xlabel('Epoch')\n",
        "plt.ylabel('Loss')\n",
        "plt.legend()\n",
        "plt.show()"
      ]
    },
    {
      "cell_type": "code",
      "execution_count": 43,
      "metadata": {
        "colab": {
          "base_uri": "https://localhost:8080/",
          "height": 564
        },
        "id": "MjItikzsP5dz",
        "outputId": "c1d9bf6e-00d3-4c65-db8a-2c2a6a58871f"
      },
      "outputs": [
        {
          "data": {
            "image/png": "[encoded data removed]",
            "text/plain": [
              "<Figure size 800x600 with 2 Axes>"
            ]
          },
          "metadata": {},
          "output_type": "display_data"
        }
      ],
      "source": [
        "#confusion metrics\n",
        "from sklearn.metrics import confusion_matrix\n",
        "\n",
        "cm = confusion_matrix(y_test, y_pred)\n",
        "plt.figure(figsize=(8,6))\n",
        "sns.heatmap(cm, annot=True, fmt=\"d\", cmap=\"Blues\", xticklabels=['Spam False', 'Spam True'], yticklabels=['Spam False', 'Spam True'])\n",
        "plt.xlabel('Predicted')\n",
        "plt.ylabel('Actual')\n",
        "plt.title('Confusion Matrix')\n",
        "plt.show()"
      ]
    },
    {
      "cell_type": "markdown",
      "metadata": {
        "id": "8nP_G9iJapBL"
      },
      "source": [
        "# Validation on Training Dataset"
      ]
    },
    {
      "cell_type": "code",
      "execution_count": 44,
      "metadata": {
        "colab": {
          "base_uri": "https://localhost:8080/"
        },
        "id": "70mQNf-iP21q",
        "outputId": "6f24dbdc-2180-4d9e-e766-b25522e72c96"
      },
      "outputs": [
        {
          "name": "stdout",
          "output_type": "stream",
          "text": [
            "\u001b[1m1/1\u001b[0m \u001b[32m━━━━━━━━━━━━━━━━━━━━\u001b[0m\u001b[37m\u001b[0m \u001b[1m0s\u001b[0m 53ms/step\n",
            "\u001b[1m1/1\u001b[0m \u001b[32m━━━━━━━━━━━━━━━━━━━━\u001b[0m\u001b[37m\u001b[0m \u001b[1m0s\u001b[0m 61ms/step\n",
            "\n",
            "Prediction Results on New Data:\n",
            "                                                 Link  Label  Predicted  \\\n",
            "0      https://briefingday.us8.list-manage.com/unsubs      1          1   \n",
            "1              https://numlock.substack.com/subscribe      1          1   \n",
            "2    https://briefingday.com/n/20200618/m#commentform      0          0   \n",
            "3                            https://www.youtube.com/      0          0   \n",
            "4                             https://www.google.com/      0          0   \n",
            "5   https://hitha.substack.com/people/976632-hitha...      1          1   \n",
            "6                   https://us3.campaign-archive.com/      1          1   \n",
            "7   https://cdn.substack.com/image/fetch/f_auto,q_...      1          1   \n",
            "8   http://tib.matthewclifford.com/issues/tib-131-...      1          1   \n",
            "9                           https://web.whatsapp.com/      0          0   \n",
            "10                     https://outlook.office365.com/      0          0   \n",
            "\n",
            "    Prediction Probability  \n",
            "0                 0.999496  \n",
            "1                 0.999666  \n",
            "2                 0.002829  \n",
            "3                 0.093482  \n",
            "4                 0.107055  \n",
            "5                 0.954569  \n",
            "6                 0.993608  \n",
            "7                 0.980896  \n",
            "8                 0.686615  \n",
            "9                 0.010670  \n",
            "10                0.048795  \n"
          ]
        }
      ],
      "source": [
        "\n",
        "\n",
        "df_test = pd.DataFrame({\n",
        "    'Link': [\n",
        "        'https://briefingday.us8.list-manage.com/unsubs',\n",
        "        'https://numlock.substack.com/subscribe',\n",
        "        'https://briefingday.com/n/20200618/m#commentform',\n",
        "        'https://www.youtube.com/',\n",
        "        'https://www.google.com/',\n",
        "        'https://hitha.substack.com/people/976632-hitha-palepu',\n",
        "        'https://us3.campaign-archive.com/',\n",
        "        'https://cdn.substack.com/image/fetch/f_auto,q_auto:good,fl_progressive:steep/https%3A%2F%2Fbucketeer-e05bbc84-baa3-437e-9518-adb32be77984.s3.amazonaws.com%2Fpublic%2Fimages%2Fcd5914a8-e144-4812-8e41-67e295f05007_150x25.png',\n",
        "        'http://tib.matthewclifford.com/issues/tib-131-how-smart-are-politicians-why-tech-needs-some-crazy-money-religious-fundamentalism-and-the-internet-and-more-276446',\n",
        "        'https://web.whatsapp.com/',\n",
        "        'https://outlook.office365.com/'\n",
        "    ],\n",
        "    'Label': [1, 1, 0, 0, 0, 1, 1, 1, 1, 0, 0]\n",
        "})\n",
        "\n",
        "\n",
        "# change the threshold and experience\n",
        "X_test_new = vectorizer.transform(df_test['Link'])\n",
        "predictions = (model.predict(X_test_new) > 0.6).astype(int)\n",
        "\n",
        "\n",
        "df_test['Predicted'] = predictions\n",
        "df_test['Prediction Probability'] = model.predict(X_test_new)\n",
        "\n",
        "\n",
        "\n",
        "print(\"\\nPrediction Results on New Data:\")\n",
        "print(df_test[['Link', 'Label', 'Predicted', 'Prediction Probability']])\n",
        "\n"
      ]
    },
    {
      "cell_type": "code",
      "execution_count": 45,
      "metadata": {
        "id": "wF1c_FESa6Ol"
      },
      "outputs": [],
      "source": [
        "# from sklearn.metrics import accuracy_score, precision_score, recall_score, f1_score, roc_auc_score\n",
        "\n",
        "# # Use y_pred instead of pred\n",
        "# accuracy = accuracy_score(y_test, y_pred)\n",
        "# precision = precision_score(y_test, y_pred)\n",
        "# recall = recall_score(y_test, y_pred)\n",
        "# f1 = f1_score(y_test, y_pred)\n",
        "# roc_auc = roc_auc_score(y_test, y_pred)\n",
        "\n",
        "# print(f\"Accuracy: {accuracy}\")\n",
        "# print(f\"Precision: {precision}\")\n",
        "# print(f\"Recall: {recall}\")\n",
        "# print(f\"F1-Score: {f1}\")\n",
        "# print(f\"ROC AUC: {roc_auc}\")\n"
      ]
    },
    {
      "cell_type": "markdown",
      "metadata": {
        "id": "ho2yBOLNa_U5"
      },
      "source": [
        "# Save the weight and load the model"
      ]
    },
    {
      "cell_type": "code",
      "execution_count": 46,
      "metadata": {
        "colab": {
          "base_uri": "https://localhost:8080/"
        },
        "id": "0fEF5nf2Z8M6",
        "outputId": "36842358-37aa-43e8-d638-a986c15409ac"
      },
      "outputs": [
        {
          "data": {
            "text/plain": [
              "['tfidf_vectorizer.joblib']"
            ]
          },
          "execution_count": 46,
          "metadata": {},
          "output_type": "execute_result"
        }
      ],
      "source": [
        "# import joblib\n",
        "\n",
        "# # Save the model and vectorizer\n",
        "# joblib.dump(model, 'model.pkl')\n",
        "# joblib.dump(vectorizer, 'tfidf_vectorizer.joblib')\n"
      ]
    },
    {
      "cell_type": "code",
      "execution_count": null,
      "metadata": {
        "id": "aLKqXK1RfOhl"
      },
      "outputs": [],
      "source": [
        "from google.colab import drive\n",
        "drive.mount('/content/drive')\n",
        "\n",
        "\n",
        "\n",
        "\n",
        "vectorizer_path = '/content/drive/DeepLearningAssigment/MyDrive/tfidf_vectorizer.joblib'  # Update with your file path\n",
        "model_path = '/content/drive/DeepLearningAssigment/MyDrive/model.pkl'  # Update with your file path"
      ]
    },
    {
      "cell_type": "code",
      "execution_count": null,
      "metadata": {
        "id": "IzKfzD3sgL3c"
      },
      "outputs": [],
      "source": []
    },
    {
      "cell_type": "code",
      "execution_count": 47,
      "metadata": {
        "colab": {
          "base_uri": "https://localhost:8080/"
        },
        "id": "oENSW0DYbK8h",
        "outputId": "47f0eb37-568c-4b07-8e0b-383b44a2718e"
      },
      "outputs": [
        {
          "name": "stdout",
          "output_type": "stream",
          "text": [
            "\u001b[1m1/1\u001b[0m \u001b[32m━━━━━━━━━━━━━━━━━━━━\u001b[0m\u001b[37m\u001b[0m \u001b[1m0s\u001b[0m 98ms/step\n"
          ]
        }
      ],
      "source": [
        "\n",
        "# Load the model and vectorizer using joblib.load\n",
        "vectorizer = joblib.load('tfidf_vectorizer.joblib')  # Changed from load to joblib.load\n",
        "loaded_model = joblib.load('model.pkl')\n",
        "\n",
        "viva_test= pd.DataFrame({\n",
        "    'Link': [\n",
        "        'https://briefingday.us8.list-manage.com/unsubs',\n",
        "        'https://numlock.substack.com/subscribe',\n",
        "        'https://briefingday.com/n/20200618/m#commentform',\n",
        "        'https://www.youtube.com/',\n",
        "        'https://www.google.com/',\n",
        "        'https://hitha.substack.com/people/976632-hitha-palepu',\n",
        "        'https://us3.campaign-archive.com/',\n",
        "        'https://cdn.substack.com/image/fetch/f_auto,q_auto:good,fl_progressive:steep/https%3A%2F%2Fbucketeer-e05bbc84-baa3-437e-9518-adb32be77984.s3.amazonaws.com%2Fpublic%2Fimages%2Fcd5914a8-e144-4812-8e41-67e295f05007_150x25.png',\n",
        "        'http://tib.matthewclifford.com/issues/tib-131-how-smart-are-politicians-why-tech-needs-some-crazy-money-religious-fundamentalism-and-the-internet-and-more-276446',\n",
        "        'https://web.whatsapp.com/',\n",
        "        'https://outlook.office365.com/'\n",
        "    ],\n",
        "    'Label': [1, 1, 0, 0, 0, 1, 1, 1, 1, 0, 0]\n",
        "})\n",
        "\n",
        "X_Viva = vectorizer.transform(viva_test['Link'])\n",
        "\n",
        "predictions = (loaded_model.predict(X_Viva) > 0.6).astype(int)"
      ]
    }
  ],
  "metadata": {
    "colab": {
      "provenance": []
    },
    "kernelspec": {
      "display_name": "Python 3",
      "name": "python3"
    },
    "language_info": {
      "name": "python"
    }
  },
  "nbformat": 4,
  "nbformat_minor": 0
}
